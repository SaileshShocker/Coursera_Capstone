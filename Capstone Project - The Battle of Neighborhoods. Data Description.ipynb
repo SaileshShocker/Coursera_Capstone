{
 "cells": [
  {
   "cell_type": "markdown",
   "metadata": {},
   "source": [
    "# Data\n",
    "\n",
    "## The following data will be used for the project :\n",
    "\n",
    "- New Delhi Resturants data that contains list Locality, Resturant name,Rating along with their latitude and longitude.\n",
    "    - Data source : <a href = \"https://www.kaggle.com/shrutimehta/zomato-restaurants-data\"> \n",
    "    Zomato kaggel  dataset</a>\n",
    "    - Description : This data set contains the required information. And we will use this data set to explore various locality of new delhi city.\n",
    "- Nearby places in each locality of new delhi city.\n",
    "    - Data source : <a href = \"https://developer.foursquare.com/\"> \n",
    "    FourSquare API</a>\n",
    "    - Description : By using this api we will get all the venues in each neighborhood."
   ]
  },
  {
   "cell_type": "markdown",
   "metadata": {},
   "source": [
    "\n",
    "# Approach\n",
    "- Collect the new delhi city data from: <a href = \"https://www.kaggle.com/shrutimehta/zomato-restaurants-data\"> \n",
    "    Zomato kaggel  dataset</a> \n",
    "- Using FourSquare API we will find all venues for each neighborhood.\n",
    "- Filter out all venues that are nearby by locality.\n",
    "- Using aggregative rating for each resturant to find the best places.\n",
    "- Visualize the Ranking of neighborhoods using folium library(python)"
   ]
  }
 ],
 "metadata": {
  "kernelspec": {
   "display_name": "Python 3",
   "language": "python",
   "name": "python3"
  },
  "language_info": {
   "codemirror_mode": {
    "name": "ipython",
    "version": 3
   },
   "file_extension": ".py",
   "mimetype": "text/x-python",
   "name": "python",
   "nbconvert_exporter": "python",
   "pygments_lexer": "ipython3",
   "version": "3.7.4"
  }
 },
 "nbformat": 4,
 "nbformat_minor": 2
}
