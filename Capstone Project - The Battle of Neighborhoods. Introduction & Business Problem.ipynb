{
 "cells": [
  {
   "cell_type": "markdown",
   "metadata": {},
   "source": [
    "<h1><center>Capstone Project - The Battle of Neighborhoods</center><h1>\n",
    "    \n",
    "    \n",
    "    \n",
    "# Introduction & Business Problem :\n",
    "\n",
    "- New York City's demographics show that it is a large and ethnically diverse metropolis. It is the largest city in the United States with a long history of international immigration. New York City was home to nearly 8.5 million people in 2014, accounting for over 40% of the population of New York State and a slightly lower percentage of the New York metropolitan area, home to approximately 23.6 million. Over the last decade, the city has been growing faster than the region. The New York region continues to be by far the leading metropolitan gateway for legal immigrants admitted into the United States.\n",
    " \n",
    "- Throughout its history, New York City has been a major point of entry for immigrants; the term \"melting pot\" was coined to describe densely populated immigrant neighborhoods on the Lower East Side. As many as 800 languages are spoken in New York, making it the most linguistically diverse city in the world. English remains the most widely spoken language, although there are areas in the outer boroughs in which up to 25% of people speak English as an alternate language, and/or have limited or no English language fluency. English is least spoken in neighborhoods such as Flushing, Sunset Park, and Corona.\n",
    " \n",
    "- With its diverse culture, comes diverse food items. There are many restaurants in New York City, each belonging to different categories like Chinese, Indian, French, etc.\n",
    "\n",
    "\n"
   ]
  },
  {
   "cell_type": "markdown",
   "metadata": {},
   "source": [
    "\n",
    "\n",
    "<h1><center>Problem Description</center></h1>\n",
    "\n",
    "Imagine an Indian family who visits New York for the first time during their summer vacation, and they want to eat Indian food. They are in search of an Indian restaurant.\n",
    " \n",
    "So as part of this project, we will list and visualize all major parts of New York City that have great Indian restaurants.\n",
    "\n",
    "\n",
    "\n",
    "\n",
    "\n"
   ]
  },
  {
   "cell_type": "markdown",
   "metadata": {},
   "source": [
    "\n",
    "\n"
   ]
  },
  {
   "cell_type": "markdown",
   "metadata": {},
   "source": [
    "<h1><center>Analytical approach</center></h1>\n",
    "    \n",
    "In this project, I will be collecting New York data from https://cocl.us/new_york_dataset and will be using FourSquare API to find all venues for each neighborhood and then Filter out all venues that have Indian Resturants. I will be Finding rating, tips and like count for each Indian Resturants using FourSquare API. Using the ratings for each restaurant, we will sort the data and visualize the Ranking of neighborhoods using folium library(python)\n"
   ]
  },
  {
   "cell_type": "code",
   "execution_count": null,
   "metadata": {},
   "outputs": [],
   "source": []
  }
 ],
 "metadata": {
  "kernelspec": {
   "display_name": "Python 3",
   "language": "python",
   "name": "python3"
  },
  "language_info": {
   "codemirror_mode": {
    "name": "ipython",
    "version": 3
   },
   "file_extension": ".py",
   "mimetype": "text/x-python",
   "name": "python",
   "nbconvert_exporter": "python",
   "pygments_lexer": "ipython3",
   "version": "3.7.4"
  }
 },
 "nbformat": 4,
 "nbformat_minor": 2
}
